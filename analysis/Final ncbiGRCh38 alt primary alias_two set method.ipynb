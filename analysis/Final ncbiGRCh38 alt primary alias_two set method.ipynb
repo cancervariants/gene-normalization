{
 "cells": [
  {
   "cell_type": "markdown",
   "metadata": {},
   "source": [
    "### Import "
   ]
  },
  {
   "cell_type": "code",
   "execution_count": 20,
   "metadata": {},
   "outputs": [],
   "source": [
    "import pandas as pd\n",
    "import numpy as np\n",
    "df = pd.read_csv(\"../analysis/ncbi_GRCh38.p14_filtered_xrefsplit.csv\")"
   ]
  },
  {
   "cell_type": "markdown",
   "metadata": {},
   "source": [
    "### Drop all columns besides gene_symbol, and alias_symbol"
   ]
  },
  {
   "cell_type": "code",
   "execution_count": 21,
   "metadata": {},
   "outputs": [
    {
     "data": {
      "text/html": [
       "<div>\n",
       "<style scoped>\n",
       "    .dataframe tbody tr th:only-of-type {\n",
       "        vertical-align: middle;\n",
       "    }\n",
       "\n",
       "    .dataframe tbody tr th {\n",
       "        vertical-align: top;\n",
       "    }\n",
       "\n",
       "    .dataframe thead th {\n",
       "        text-align: right;\n",
       "    }\n",
       "</style>\n",
       "<table border=\"1\" class=\"dataframe\">\n",
       "  <thead>\n",
       "    <tr style=\"text-align: right;\">\n",
       "      <th></th>\n",
       "      <th>gene_symbol</th>\n",
       "      <th>alias_symbol</th>\n",
       "    </tr>\n",
       "  </thead>\n",
       "  <tbody>\n",
       "    <tr>\n",
       "      <th>0</th>\n",
       "      <td>DDX11L1</td>\n",
       "      <td>NaN</td>\n",
       "    </tr>\n",
       "  </tbody>\n",
       "</table>\n",
       "</div>"
      ],
      "text/plain": [
       "  gene_symbol alias_symbol\n",
       "0     DDX11L1          NaN"
      ]
     },
     "execution_count": 21,
     "metadata": {},
     "output_type": "execute_result"
    }
   ],
   "source": [
    "mini_ncbiGRCh38_df = df.drop(['Unnamed: 0', 'gene', 'xref_IMGT_gene_db', 'xref_key_not_found', 'xref_hgncID', 'xref_mimID', 'xref_miRBaseID', 'xref_ncbiID', 'description', 'name'], axis=1)\n",
    "mini_ncbiGRCh38_df = mini_ncbiGRCh38_df.rename(columns = {'gene_id':'gene_symbol','aliases':'alias_symbol'})\n",
    "mini_ncbiGRCh38_df['gene_symbol'] = mini_ncbiGRCh38_df['gene_symbol'].str.replace('gene-', '')\n",
    "mini_ncbiGRCh38_df.head(1)"
   ]
  },
  {
   "cell_type": "markdown",
   "metadata": {},
   "source": [
    "### Make all of gene_symbol a set"
   ]
  },
  {
   "cell_type": "code",
   "execution_count": 22,
   "metadata": {},
   "outputs": [],
   "source": [
    "all_gene_symbol_set = set(mini_ncbiGRCh38_df['gene_symbol'])"
   ]
  },
  {
   "cell_type": "markdown",
   "metadata": {},
   "source": [
    "### Make each row in alias_symbol a set:\n",
    "    covert to a list \n",
    "    make a set"
   ]
  },
  {
   "cell_type": "code",
   "execution_count": 23,
   "metadata": {},
   "outputs": [
    {
     "data": {
      "text/html": [
       "<div>\n",
       "<style scoped>\n",
       "    .dataframe tbody tr th:only-of-type {\n",
       "        vertical-align: middle;\n",
       "    }\n",
       "\n",
       "    .dataframe tbody tr th {\n",
       "        vertical-align: top;\n",
       "    }\n",
       "\n",
       "    .dataframe thead th {\n",
       "        text-align: right;\n",
       "    }\n",
       "</style>\n",
       "<table border=\"1\" class=\"dataframe\">\n",
       "  <thead>\n",
       "    <tr style=\"text-align: right;\">\n",
       "      <th></th>\n",
       "      <th>gene_symbol</th>\n",
       "      <th>alias_symbol</th>\n",
       "    </tr>\n",
       "  </thead>\n",
       "  <tbody>\n",
       "    <tr>\n",
       "      <th>0</th>\n",
       "      <td>DDX11L1</td>\n",
       "      <td>{nan}</td>\n",
       "    </tr>\n",
       "  </tbody>\n",
       "</table>\n",
       "</div>"
      ],
      "text/plain": [
       "  gene_symbol alias_symbol\n",
       "0     DDX11L1        {nan}"
      ]
     },
     "execution_count": 23,
     "metadata": {},
     "output_type": "execute_result"
    }
   ],
   "source": [
    "mini_ncbiGRCh38_df['alias_symbol'] = mini_ncbiGRCh38_df['alias_symbol'].astype(str)\n",
    "mini_ncbiGRCh38_df['alias_symbol'] = [x.split(';') for x in mini_ncbiGRCh38_df.alias_symbol]\n",
    "mini_ncbiGRCh38_df['alias_symbol']=np.where(mini_ncbiGRCh38_df.alias_symbol=='','',mini_ncbiGRCh38_df.alias_symbol.map(set))\n",
    "mini_ncbiGRCh38_df.head(1)"
   ]
  },
  {
   "cell_type": "markdown",
   "metadata": {},
   "source": [
    "### Add test for false positives in the intersection points\n",
    "#### (places where x in alias_smbol matches x in mini_hgnc_df.gene_symbol in the same row)"
   ]
  },
  {
   "cell_type": "code",
   "execution_count": 24,
   "metadata": {},
   "outputs": [
    {
     "data": {
      "text/html": [
       "<div>\n",
       "<style scoped>\n",
       "    .dataframe tbody tr th:only-of-type {\n",
       "        vertical-align: middle;\n",
       "    }\n",
       "\n",
       "    .dataframe tbody tr th {\n",
       "        vertical-align: top;\n",
       "    }\n",
       "\n",
       "    .dataframe thead th {\n",
       "        text-align: right;\n",
       "    }\n",
       "</style>\n",
       "<table border=\"1\" class=\"dataframe\">\n",
       "  <thead>\n",
       "    <tr style=\"text-align: right;\">\n",
       "      <th></th>\n",
       "      <th>gene_symbol</th>\n",
       "      <th>alias_symbol</th>\n",
       "    </tr>\n",
       "  </thead>\n",
       "  <tbody>\n",
       "    <tr>\n",
       "      <th>43015</th>\n",
       "      <td>{MIR3690-2}</td>\n",
       "      <td>{hsa-mir-3690-1, hsa-mir-3690-2, mir-3690-1, M...</td>\n",
       "    </tr>\n",
       "    <tr>\n",
       "      <th>43027</th>\n",
       "      <td>{MIR6089-2}</td>\n",
       "      <td>{hsa-mir-6089-2, hsa-mir-6089-1, MIR6089-1, MI...</td>\n",
       "    </tr>\n",
       "    <tr>\n",
       "      <th>44999</th>\n",
       "      <td>{CHRNA7-2}</td>\n",
       "      <td>{NACHRA7, CHRNA7-2}</td>\n",
       "    </tr>\n",
       "    <tr>\n",
       "      <th>47573</th>\n",
       "      <td>{GABBR1-3}</td>\n",
       "      <td>{GABBR1-3, GB1, GABABR1, GPRC3A}</td>\n",
       "    </tr>\n",
       "  </tbody>\n",
       "</table>\n",
       "</div>"
      ],
      "text/plain": [
       "       gene_symbol                                       alias_symbol\n",
       "43015  {MIR3690-2}  {hsa-mir-3690-1, hsa-mir-3690-2, mir-3690-1, M...\n",
       "43027  {MIR6089-2}  {hsa-mir-6089-2, hsa-mir-6089-1, MIR6089-1, MI...\n",
       "44999   {CHRNA7-2}                                {NACHRA7, CHRNA7-2}\n",
       "47573   {GABBR1-3}                   {GABBR1-3, GB1, GABABR1, GPRC3A}"
      ]
     },
     "execution_count": 24,
     "metadata": {},
     "output_type": "execute_result"
    }
   ],
   "source": [
    "mini_ncbiGRCh38_df['gene_symbol'] = [x.split(';') for x in mini_ncbiGRCh38_df.gene_symbol]\n",
    "mini_ncbiGRCh38_df['gene_symbol'] =np.where(mini_ncbiGRCh38_df.gene_symbol =='','',mini_ncbiGRCh38_df.gene_symbol.map(set))\n",
    "false_pos_mini_ncbiGRCh38_df = mini_ncbiGRCh38_df[mini_ncbiGRCh38_df.alias_symbol.apply(lambda x: x & all_gene_symbol_set) == mini_ncbiGRCh38_df.gene_symbol]\n",
    "false_pos_mini_ncbiGRCh38_df"
   ]
  },
  {
   "cell_type": "markdown",
   "metadata": {},
   "source": [
    "### Need to remove aliases that match their primary key (gene symbol)"
   ]
  },
  {
   "cell_type": "code",
   "execution_count": 25,
   "metadata": {},
   "outputs": [
    {
     "data": {
      "text/html": [
       "<div>\n",
       "<style scoped>\n",
       "    .dataframe tbody tr th:only-of-type {\n",
       "        vertical-align: middle;\n",
       "    }\n",
       "\n",
       "    .dataframe tbody tr th {\n",
       "        vertical-align: top;\n",
       "    }\n",
       "\n",
       "    .dataframe thead th {\n",
       "        text-align: right;\n",
       "    }\n",
       "</style>\n",
       "<table border=\"1\" class=\"dataframe\">\n",
       "  <thead>\n",
       "    <tr style=\"text-align: right;\">\n",
       "      <th></th>\n",
       "      <th>gene_symbol</th>\n",
       "      <th>alias_symbol</th>\n",
       "    </tr>\n",
       "  </thead>\n",
       "  <tbody>\n",
       "    <tr>\n",
       "      <th>0</th>\n",
       "      <td>{DDX11L1}</td>\n",
       "      <td>{nan}</td>\n",
       "    </tr>\n",
       "  </tbody>\n",
       "</table>\n",
       "</div>"
      ],
      "text/plain": [
       "  gene_symbol alias_symbol\n",
       "0   {DDX11L1}        {nan}"
      ]
     },
     "execution_count": 25,
     "metadata": {},
     "output_type": "execute_result"
    }
   ],
   "source": [
    "mini_ncbiGRCh38_df['alias_symbol'] = mini_ncbiGRCh38_df.alias_symbol - mini_ncbiGRCh38_df.gene_symbol\n",
    "mini_ncbiGRCh38_df.head(1)"
   ]
  },
  {
   "cell_type": "markdown",
   "metadata": {},
   "source": [
    "#### Find intersection points using new alias symbol sets"
   ]
  },
  {
   "cell_type": "code",
   "execution_count": 26,
   "metadata": {},
   "outputs": [
    {
     "data": {
      "text/html": [
       "<div>\n",
       "<style scoped>\n",
       "    .dataframe tbody tr th:only-of-type {\n",
       "        vertical-align: middle;\n",
       "    }\n",
       "\n",
       "    .dataframe tbody tr th {\n",
       "        vertical-align: top;\n",
       "    }\n",
       "\n",
       "    .dataframe thead th {\n",
       "        text-align: right;\n",
       "    }\n",
       "</style>\n",
       "<table border=\"1\" class=\"dataframe\">\n",
       "  <thead>\n",
       "    <tr style=\"text-align: right;\">\n",
       "      <th></th>\n",
       "      <th>gene_symbol</th>\n",
       "      <th>alias_symbol</th>\n",
       "      <th>intersect_point</th>\n",
       "    </tr>\n",
       "  </thead>\n",
       "  <tbody>\n",
       "    <tr>\n",
       "      <th>1</th>\n",
       "      <td>{WASH7P}</td>\n",
       "      <td>{FAM39F, WASH5P}</td>\n",
       "      <td>{WASH5P}</td>\n",
       "    </tr>\n",
       "  </tbody>\n",
       "</table>\n",
       "</div>"
      ],
      "text/plain": [
       "  gene_symbol      alias_symbol intersect_point\n",
       "1    {WASH7P}  {FAM39F, WASH5P}        {WASH5P}"
      ]
     },
     "execution_count": 26,
     "metadata": {},
     "output_type": "execute_result"
    }
   ],
   "source": [
    "mini_ncbiGRCh38_df['intersect_point'] = mini_ncbiGRCh38_df.alias_symbol.apply(lambda x: x & all_gene_symbol_set)\n",
    "true_mini_ncbiGRCh38_df = mini_ncbiGRCh38_df[mini_ncbiGRCh38_df.intersect_point != set()]\n",
    "true_mini_ncbiGRCh38_df.head(1)"
   ]
  },
  {
   "cell_type": "markdown",
   "metadata": {},
   "source": [
    "#### Save true intersect points"
   ]
  },
  {
   "cell_type": "code",
   "execution_count": 27,
   "metadata": {},
   "outputs": [
    {
     "data": {
      "text/plain": [
       "1745"
      ]
     },
     "execution_count": 27,
     "metadata": {},
     "output_type": "execute_result"
    }
   ],
   "source": [
    "true_mini_ncbiGRCh38_df.to_csv('../analysis/true_ncbiGRCh38_alias_gene_intersections.csv', index=False)\n",
    "len(true_mini_ncbiGRCh38_df)"
   ]
  }
 ],
 "metadata": {
  "kernelspec": {
   "display_name": "Python 3.10.9 ('gene-normalization-kln2mzEG')",
   "language": "python",
   "name": "python3"
  },
  "language_info": {
   "codemirror_mode": {
    "name": "ipython",
    "version": 3
   },
   "file_extension": ".py",
   "mimetype": "text/x-python",
   "name": "python",
   "nbconvert_exporter": "python",
   "pygments_lexer": "ipython3",
   "version": "3.10.9"
  },
  "orig_nbformat": 4,
  "vscode": {
   "interpreter": {
    "hash": "63db6d8944633f0f1ac66f1e84c479e7ccc3c7c835ee283fbd6bddfaad96182b"
   }
  }
 },
 "nbformat": 4,
 "nbformat_minor": 2
}
