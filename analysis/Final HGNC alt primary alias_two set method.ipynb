{
 "cells": [
  {
   "cell_type": "markdown",
   "metadata": {},
   "source": [
    "### Import "
   ]
  },
  {
   "cell_type": "code",
   "execution_count": 172,
   "metadata": {},
   "outputs": [],
   "source": [
    "import pandas as pd\n",
    "import numpy as np\n",
    "df = pd.read_csv(\"../analysis/hgnc_filtered.csv\")"
   ]
  },
  {
   "cell_type": "markdown",
   "metadata": {},
   "source": [
    "### Drop all columns besides ENSG ID, gene_symbol, and alias_symbol"
   ]
  },
  {
   "cell_type": "code",
   "execution_count": 173,
   "metadata": {},
   "outputs": [
    {
     "data": {
      "text/html": [
       "<div>\n",
       "<style scoped>\n",
       "    .dataframe tbody tr th:only-of-type {\n",
       "        vertical-align: middle;\n",
       "    }\n",
       "\n",
       "    .dataframe tbody tr th {\n",
       "        vertical-align: top;\n",
       "    }\n",
       "\n",
       "    .dataframe thead th {\n",
       "        text-align: right;\n",
       "    }\n",
       "</style>\n",
       "<table border=\"1\" class=\"dataframe\">\n",
       "  <thead>\n",
       "    <tr style=\"text-align: right;\">\n",
       "      <th></th>\n",
       "      <th>gene_symbol</th>\n",
       "      <th>ENSG</th>\n",
       "      <th>alias_symbol</th>\n",
       "    </tr>\n",
       "  </thead>\n",
       "  <tbody>\n",
       "    <tr>\n",
       "      <th>0</th>\n",
       "      <td>A1BG</td>\n",
       "      <td>ENSG00000121410</td>\n",
       "      <td>NaN</td>\n",
       "    </tr>\n",
       "  </tbody>\n",
       "</table>\n",
       "</div>"
      ],
      "text/plain": [
       "  gene_symbol             ENSG alias_symbol\n",
       "0        A1BG  ENSG00000121410          NaN"
      ]
     },
     "execution_count": 173,
     "metadata": {},
     "output_type": "execute_result"
    }
   ],
   "source": [
    "mini_hgnc_df = df.drop(['Unnamed: 0', 'hgnc_id', 'locus_type', 'name', 'mane_select', 'locus_group', 'entrez_id', 'agr', 'refseq_accession', 'alias_name', 'ENSEMBLtrans', 'NA', 'unknown'], axis=1)\n",
    "mini_hgnc_df = mini_hgnc_df.rename(columns = {'ensembl_gene_id':'ENSG', 'symbol':'gene_symbol'})\n",
    "mini_hgnc_df.head(1)"
   ]
  },
  {
   "cell_type": "markdown",
   "metadata": {},
   "source": [
    "### Make all of gene_symbol a set"
   ]
  },
  {
   "cell_type": "code",
   "execution_count": 174,
   "metadata": {},
   "outputs": [],
   "source": [
    "all_gene_symbols_set = set(mini_hgnc_df['gene_symbol'])\n",
    "# all_gene_symbols_set"
   ]
  },
  {
   "cell_type": "markdown",
   "metadata": {},
   "source": [
    "### Make each row in alias_symbol a set:\n",
    "    covert to a list \n",
    "    make a set"
   ]
  },
  {
   "cell_type": "code",
   "execution_count": 175,
   "metadata": {},
   "outputs": [
    {
     "data": {
      "text/plain": [
       "list"
      ]
     },
     "execution_count": 175,
     "metadata": {},
     "output_type": "execute_result"
    }
   ],
   "source": [
    "mini_hgnc_df['alias_symbol'] = mini_hgnc_df['alias_symbol'].astype(str)\n",
    "type(mini_hgnc_df.alias_symbol[2].split(';'))"
   ]
  },
  {
   "cell_type": "code",
   "execution_count": 176,
   "metadata": {},
   "outputs": [
    {
     "data": {
      "text/html": [
       "<div>\n",
       "<style scoped>\n",
       "    .dataframe tbody tr th:only-of-type {\n",
       "        vertical-align: middle;\n",
       "    }\n",
       "\n",
       "    .dataframe tbody tr th {\n",
       "        vertical-align: top;\n",
       "    }\n",
       "\n",
       "    .dataframe thead th {\n",
       "        text-align: right;\n",
       "    }\n",
       "</style>\n",
       "<table border=\"1\" class=\"dataframe\">\n",
       "  <thead>\n",
       "    <tr style=\"text-align: right;\">\n",
       "      <th></th>\n",
       "      <th>gene_symbol</th>\n",
       "      <th>ENSG</th>\n",
       "      <th>alias_symbol</th>\n",
       "    </tr>\n",
       "  </thead>\n",
       "  <tbody>\n",
       "    <tr>\n",
       "      <th>0</th>\n",
       "      <td>A1BG</td>\n",
       "      <td>ENSG00000121410</td>\n",
       "      <td>[nan]</td>\n",
       "    </tr>\n",
       "  </tbody>\n",
       "</table>\n",
       "</div>"
      ],
      "text/plain": [
       "  gene_symbol             ENSG alias_symbol\n",
       "0        A1BG  ENSG00000121410        [nan]"
      ]
     },
     "execution_count": 176,
     "metadata": {},
     "output_type": "execute_result"
    }
   ],
   "source": [
    "mini_hgnc_df['alias_symbol'] = [x.split(';') for x in mini_hgnc_df.alias_symbol]\n",
    "mini_hgnc_df.head(1)"
   ]
  },
  {
   "cell_type": "code",
   "execution_count": 177,
   "metadata": {},
   "outputs": [
    {
     "data": {
      "text/html": [
       "<div>\n",
       "<style scoped>\n",
       "    .dataframe tbody tr th:only-of-type {\n",
       "        vertical-align: middle;\n",
       "    }\n",
       "\n",
       "    .dataframe tbody tr th {\n",
       "        vertical-align: top;\n",
       "    }\n",
       "\n",
       "    .dataframe thead th {\n",
       "        text-align: right;\n",
       "    }\n",
       "</style>\n",
       "<table border=\"1\" class=\"dataframe\">\n",
       "  <thead>\n",
       "    <tr style=\"text-align: right;\">\n",
       "      <th></th>\n",
       "      <th>gene_symbol</th>\n",
       "      <th>ENSG</th>\n",
       "      <th>alias_symbol</th>\n",
       "    </tr>\n",
       "  </thead>\n",
       "  <tbody>\n",
       "    <tr>\n",
       "      <th>0</th>\n",
       "      <td>A1BG</td>\n",
       "      <td>ENSG00000121410</td>\n",
       "      <td>{nan}</td>\n",
       "    </tr>\n",
       "    <tr>\n",
       "      <th>1</th>\n",
       "      <td>A1BG-AS1</td>\n",
       "      <td>ENSG00000268895</td>\n",
       "      <td>{FLJ23569}</td>\n",
       "    </tr>\n",
       "    <tr>\n",
       "      <th>2</th>\n",
       "      <td>A1CF</td>\n",
       "      <td>ENSG00000148584</td>\n",
       "      <td>{ACF, ACF65, ASP, APOBEC1CF, ACF64}</td>\n",
       "    </tr>\n",
       "    <tr>\n",
       "      <th>3</th>\n",
       "      <td>A2M</td>\n",
       "      <td>ENSG00000175899</td>\n",
       "      <td>{FWP007, CPAMD5, S863-7}</td>\n",
       "    </tr>\n",
       "    <tr>\n",
       "      <th>4</th>\n",
       "      <td>A2M-AS1</td>\n",
       "      <td>ENSG00000245105</td>\n",
       "      <td>{nan}</td>\n",
       "    </tr>\n",
       "  </tbody>\n",
       "</table>\n",
       "</div>"
      ],
      "text/plain": [
       "  gene_symbol             ENSG                         alias_symbol\n",
       "0        A1BG  ENSG00000121410                                {nan}\n",
       "1    A1BG-AS1  ENSG00000268895                           {FLJ23569}\n",
       "2        A1CF  ENSG00000148584  {ACF, ACF65, ASP, APOBEC1CF, ACF64}\n",
       "3         A2M  ENSG00000175899             {FWP007, CPAMD5, S863-7}\n",
       "4     A2M-AS1  ENSG00000245105                                {nan}"
      ]
     },
     "execution_count": 177,
     "metadata": {},
     "output_type": "execute_result"
    }
   ],
   "source": [
    "\n",
    "mini_hgnc_df['alias_symbol']=np.where(mini_hgnc_df.alias_symbol =='','',mini_hgnc_df.alias_symbol.map(set))\n",
    "mini_hgnc_df.head()"
   ]
  },
  {
   "cell_type": "markdown",
   "metadata": {},
   "source": [
    "### Add test for false positives in the intersection points(places where x in alias_smbol matches x in mini_hgnc_df.gene_symbol in the same row)"
   ]
  },
  {
   "cell_type": "code",
   "execution_count": 178,
   "metadata": {},
   "outputs": [
    {
     "data": {
      "text/html": [
       "<div>\n",
       "<style scoped>\n",
       "    .dataframe tbody tr th:only-of-type {\n",
       "        vertical-align: middle;\n",
       "    }\n",
       "\n",
       "    .dataframe tbody tr th {\n",
       "        vertical-align: top;\n",
       "    }\n",
       "\n",
       "    .dataframe thead th {\n",
       "        text-align: right;\n",
       "    }\n",
       "</style>\n",
       "<table border=\"1\" class=\"dataframe\">\n",
       "  <thead>\n",
       "    <tr style=\"text-align: right;\">\n",
       "      <th></th>\n",
       "      <th>gene_symbol</th>\n",
       "      <th>ENSG</th>\n",
       "      <th>alias_symbol</th>\n",
       "    </tr>\n",
       "  </thead>\n",
       "  <tbody>\n",
       "    <tr>\n",
       "      <th>351</th>\n",
       "      <td>{ACTRT2}</td>\n",
       "      <td>ENSG00000169717</td>\n",
       "      <td>{Arp-T2, ARPM2, FLJ25424, ACTRT2}</td>\n",
       "    </tr>\n",
       "  </tbody>\n",
       "</table>\n",
       "</div>"
      ],
      "text/plain": [
       "    gene_symbol             ENSG                       alias_symbol\n",
       "351    {ACTRT2}  ENSG00000169717  {Arp-T2, ARPM2, FLJ25424, ACTRT2}"
      ]
     },
     "execution_count": 178,
     "metadata": {},
     "output_type": "execute_result"
    }
   ],
   "source": [
    "mini_hgnc_df['gene_symbol'] = [x.split(';') for x in mini_hgnc_df.gene_symbol]\n",
    "mini_hgnc_df['gene_symbol'] =np.where(mini_hgnc_df.gene_symbol =='','',mini_hgnc_df.gene_symbol.map(set))\n",
    "false_pos_mini_hgnc_df = mini_hgnc_df[mini_hgnc_df.alias_symbol.apply(lambda x: x & all_gene_symbols_set) == mini_hgnc_df.gene_symbol]\n",
    "false_pos_mini_hgnc_df"
   ]
  },
  {
   "cell_type": "markdown",
   "metadata": {},
   "source": [
    "### Need to remove aliases that match their primary key (gene symbol)"
   ]
  },
  {
   "cell_type": "code",
   "execution_count": 179,
   "metadata": {},
   "outputs": [
    {
     "data": {
      "text/plain": [
       "gene_symbol                      {ACTRT2}\n",
       "ENSG                      ENSG00000169717\n",
       "alias_symbol    {Arp-T2, ARPM2, FLJ25424}\n",
       "Name: 351, dtype: object"
      ]
     },
     "metadata": {},
     "output_type": "display_data"
    }
   ],
   "source": [
    "mini_hgnc_df['alias_symbol'] = mini_hgnc_df.alias_symbol - mini_hgnc_df.gene_symbol\n",
    "display(mini_hgnc_df.iloc[351])"
   ]
  },
  {
   "cell_type": "markdown",
   "metadata": {},
   "source": [
    "#### Find intersection points using new alias symbol sets"
   ]
  },
  {
   "cell_type": "code",
   "execution_count": null,
   "metadata": {},
   "outputs": [],
   "source": [
    "alias_symbol_sets_series = mini_hgnc_df.alias_symbol"
   ]
  },
  {
   "cell_type": "code",
   "execution_count": null,
   "metadata": {},
   "outputs": [
    {
     "data": {
      "text/html": [
       "<div>\n",
       "<style scoped>\n",
       "    .dataframe tbody tr th:only-of-type {\n",
       "        vertical-align: middle;\n",
       "    }\n",
       "\n",
       "    .dataframe tbody tr th {\n",
       "        vertical-align: top;\n",
       "    }\n",
       "\n",
       "    .dataframe thead th {\n",
       "        text-align: right;\n",
       "    }\n",
       "</style>\n",
       "<table border=\"1\" class=\"dataframe\">\n",
       "  <thead>\n",
       "    <tr style=\"text-align: right;\">\n",
       "      <th></th>\n",
       "      <th>gene_symbol</th>\n",
       "      <th>ENSG</th>\n",
       "      <th>alias_symbol</th>\n",
       "      <th>intersect_point</th>\n",
       "    </tr>\n",
       "  </thead>\n",
       "  <tbody>\n",
       "    <tr>\n",
       "      <th>87</th>\n",
       "      <td>{ABCD1}</td>\n",
       "      <td>ENSG00000101986</td>\n",
       "      <td>{ALDP, AMN, adrenoleukodystrophy}</td>\n",
       "      <td>{AMN}</td>\n",
       "    </tr>\n",
       "    <tr>\n",
       "      <th>206</th>\n",
       "      <td>{ACKR2}</td>\n",
       "      <td>ENSG00000144648</td>\n",
       "      <td>{CCR9, CCR10, D6}</td>\n",
       "      <td>{CCR9, CCR10}</td>\n",
       "    </tr>\n",
       "    <tr>\n",
       "      <th>215</th>\n",
       "      <td>{ACOD1}</td>\n",
       "      <td>ENSG00000102794</td>\n",
       "      <td>{CAD}</td>\n",
       "      <td>{CAD}</td>\n",
       "    </tr>\n",
       "    <tr>\n",
       "      <th>275</th>\n",
       "      <td>{ACTBP8}</td>\n",
       "      <td>ENSG00000220267</td>\n",
       "      <td>{ACTBP2}</td>\n",
       "      <td>{ACTBP2}</td>\n",
       "    </tr>\n",
       "    <tr>\n",
       "      <th>399</th>\n",
       "      <td>{ADAM28}</td>\n",
       "      <td>ENSG00000042980</td>\n",
       "      <td>{ADAM23, eMDCII, MDC-Lm, MDC-Ls}</td>\n",
       "      <td>{ADAM23}</td>\n",
       "    </tr>\n",
       "    <tr>\n",
       "      <th>...</th>\n",
       "      <td>...</td>\n",
       "      <td>...</td>\n",
       "      <td>...</td>\n",
       "      <td>...</td>\n",
       "    </tr>\n",
       "    <tr>\n",
       "      <th>41595</th>\n",
       "      <td>{VSIG2}</td>\n",
       "      <td>ENSG00000019102</td>\n",
       "      <td>{CTXL, CTH}</td>\n",
       "      <td>{CTH}</td>\n",
       "    </tr>\n",
       "    <tr>\n",
       "      <th>42442</th>\n",
       "      <td>{ZNF83}</td>\n",
       "      <td>ENSG00000167766</td>\n",
       "      <td>{HPF1, FLJ11015}</td>\n",
       "      <td>{HPF1}</td>\n",
       "    </tr>\n",
       "    <tr>\n",
       "      <th>42461</th>\n",
       "      <td>{ZNF106}</td>\n",
       "      <td>ENSG00000103994</td>\n",
       "      <td>{ZNF474, SH3BP3}</td>\n",
       "      <td>{ZNF474}</td>\n",
       "    </tr>\n",
       "    <tr>\n",
       "      <th>42468</th>\n",
       "      <td>{ZNF121}</td>\n",
       "      <td>ENSG00000197961</td>\n",
       "      <td>{ZNF20, ZHC32}</td>\n",
       "      <td>{ZNF20}</td>\n",
       "    </tr>\n",
       "    <tr>\n",
       "      <th>42490</th>\n",
       "      <td>{ZNF160}</td>\n",
       "      <td>ENSG00000170949</td>\n",
       "      <td>{F11, FLJ00032, HKr18, KIAA1611, HZF5, KR18}</td>\n",
       "      <td>{F11}</td>\n",
       "    </tr>\n",
       "  </tbody>\n",
       "</table>\n",
       "<p>483 rows × 4 columns</p>\n",
       "</div>"
      ],
      "text/plain": [
       "      gene_symbol             ENSG  \\\n",
       "87        {ABCD1}  ENSG00000101986   \n",
       "206       {ACKR2}  ENSG00000144648   \n",
       "215       {ACOD1}  ENSG00000102794   \n",
       "275      {ACTBP8}  ENSG00000220267   \n",
       "399      {ADAM28}  ENSG00000042980   \n",
       "...           ...              ...   \n",
       "41595     {VSIG2}  ENSG00000019102   \n",
       "42442     {ZNF83}  ENSG00000167766   \n",
       "42461    {ZNF106}  ENSG00000103994   \n",
       "42468    {ZNF121}  ENSG00000197961   \n",
       "42490    {ZNF160}  ENSG00000170949   \n",
       "\n",
       "                                       alias_symbol intersect_point  \n",
       "87                {ALDP, AMN, adrenoleukodystrophy}           {AMN}  \n",
       "206                               {CCR9, CCR10, D6}   {CCR9, CCR10}  \n",
       "215                                           {CAD}           {CAD}  \n",
       "275                                        {ACTBP2}        {ACTBP2}  \n",
       "399                {ADAM23, eMDCII, MDC-Lm, MDC-Ls}        {ADAM23}  \n",
       "...                                             ...             ...  \n",
       "41595                                   {CTXL, CTH}           {CTH}  \n",
       "42442                              {HPF1, FLJ11015}          {HPF1}  \n",
       "42461                              {ZNF474, SH3BP3}        {ZNF474}  \n",
       "42468                                {ZNF20, ZHC32}         {ZNF20}  \n",
       "42490  {F11, FLJ00032, HKr18, KIAA1611, HZF5, KR18}           {F11}  \n",
       "\n",
       "[483 rows x 4 columns]"
      ]
     },
     "execution_count": 143,
     "metadata": {},
     "output_type": "execute_result"
    }
   ],
   "source": [
    "mini_hgnc_df['intersect_point'] = mini_hgnc_df.alias_symbol.apply(lambda x: x & all_gene_symbols_set)\n",
    "true_mini_hgnc_df = mini_hgnc_df[mini_hgnc_df.intersect_point != set()]\n",
    "true_mini_hgnc_df"
   ]
  },
  {
   "cell_type": "markdown",
   "metadata": {},
   "source": [
    "#### Save true intersect points"
   ]
  },
  {
   "cell_type": "code",
   "execution_count": null,
   "metadata": {},
   "outputs": [],
   "source": [
    "true_mini_hgnc_df.to_csv('../analysis/true_hgnc_alias_gene_intersections.csv', index=False)"
   ]
  }
 ],
 "metadata": {
  "kernelspec": {
   "display_name": "Python 3.10.9 ('gene-normalization-kln2mzEG')",
   "language": "python",
   "name": "python3"
  },
  "language_info": {
   "codemirror_mode": {
    "name": "ipython",
    "version": 3
   },
   "file_extension": ".py",
   "mimetype": "text/x-python",
   "name": "python",
   "nbconvert_exporter": "python",
   "pygments_lexer": "ipython3",
   "version": "3.10.9"
  },
  "orig_nbformat": 4,
  "vscode": {
   "interpreter": {
    "hash": "63db6d8944633f0f1ac66f1e84c479e7ccc3c7c835ee283fbd6bddfaad96182b"
   }
  }
 },
 "nbformat": 4,
 "nbformat_minor": 2
}
