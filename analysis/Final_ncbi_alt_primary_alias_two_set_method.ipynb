{
 "cells": [
  {
   "cell_type": "markdown",
   "metadata": {},
   "source": [
    "### Import"
   ]
  },
  {
   "cell_type": "code",
   "execution_count": 105,
   "metadata": {},
   "outputs": [
    {
     "name": "stderr",
     "output_type": "stream",
     "text": [
      "/var/folders/sg/8n6pvd2x2dl6_btvmmlxncs15x2mtv/T/ipykernel_17501/3619979836.py:3: DtypeWarning: Columns (15,16) have mixed types. Specify dtype option on import or set low_memory=False.\n",
      "  df = pd.read_csv(\"../analysis/ncbi_info_20220719_filtered.csv\")\n"
     ]
    }
   ],
   "source": [
    "import pandas as pd\n",
    "import numpy as np\n",
    "df = pd.read_csv(\"../analysis/ncbi_info_20220719_filtered.csv\")"
   ]
  },
  {
   "cell_type": "markdown",
   "metadata": {},
   "source": [
    "### Drop all columns besides ENSG ID, gene_symbol, and alias_symbol"
   ]
  },
  {
   "cell_type": "code",
   "execution_count": 90,
   "metadata": {},
   "outputs": [
    {
     "data": {
      "text/html": [
       "<div>\n",
       "<style scoped>\n",
       "    .dataframe tbody tr th:only-of-type {\n",
       "        vertical-align: middle;\n",
       "    }\n",
       "\n",
       "    .dataframe tbody tr th {\n",
       "        vertical-align: top;\n",
       "    }\n",
       "\n",
       "    .dataframe thead th {\n",
       "        text-align: right;\n",
       "    }\n",
       "</style>\n",
       "<table border=\"1\" class=\"dataframe\">\n",
       "  <thead>\n",
       "    <tr style=\"text-align: right;\">\n",
       "      <th></th>\n",
       "      <th>gene_symbol</th>\n",
       "      <th>alias_symbol</th>\n",
       "      <th>ENSG ID</th>\n",
       "    </tr>\n",
       "  </thead>\n",
       "  <tbody>\n",
       "    <tr>\n",
       "      <th>0</th>\n",
       "      <td>A1BG</td>\n",
       "      <td>A1B|ABG|GAB|HYST2477</td>\n",
       "      <td>ENSG00000121410</td>\n",
       "    </tr>\n",
       "  </tbody>\n",
       "</table>\n",
       "</div>"
      ],
      "text/plain": [
       "  gene_symbol          alias_symbol          ENSG ID\n",
       "0        A1BG  A1B|ABG|GAB|HYST2477  ENSG00000121410"
      ]
     },
     "execution_count": 90,
     "metadata": {},
     "output_type": "execute_result"
    }
   ],
   "source": [
    "mini_ncbi_df = df.drop(['Unnamed: 0', '#tax_id','GeneID', 'dbXrefs', 'description', 'type_of_gene', 'Symbol_from_nomenclature_authority', 'Full_name_from_nomenclature_authority', 'Other_designations', 'MIM', 'HGNC', 'AllianceGenome','MIRbase', 'IMGTgene_db', 'dash', 'unknown'], axis=1)\n",
    "mini_ncbi_df = mini_ncbi_df.rename(columns = {'Symbol':'gene_symbol','Synonyms':'alias_symbol', 'ENSEMBL':'ENSG ID'})\n",
    "mini_ncbi_df['ENSG ID'] = mini_ncbi_df['ENSG ID'].astype(str)\n",
    "mini_ncbi_df['ENSG ID'] = mini_ncbi_df['ENSG ID'].apply(str.upper)\n",
    "mini_ncbi_df.head(1)"
   ]
  },
  {
   "cell_type": "markdown",
   "metadata": {},
   "source": [
    "### The gene_symbol column has duplicates\n",
    "##### (I ran set intersection b/w gene & alias and rcvd error saying set lengths didnt match)"
   ]
  },
  {
   "cell_type": "code",
   "execution_count": 91,
   "metadata": {},
   "outputs": [
    {
     "data": {
      "text/plain": [
       "205"
      ]
     },
     "execution_count": 91,
     "metadata": {},
     "output_type": "execute_result"
    }
   ],
   "source": [
    "mini_ncbi_df['symbol_duplicates'] = mini_ncbi_df.duplicated(subset= 'gene_symbol', keep=False)\n",
    "dup_symbol_mini_ncbi_df = mini_ncbi_df[mini_ncbi_df['symbol_duplicates'] == True]\n",
    "len(dup_symbol_mini_ncbi_df)"
   ]
  },
  {
   "cell_type": "markdown",
   "metadata": {},
   "source": [
    "##### What is the difference b/w these duplicates? Can we get rid of them? \n",
    "##### It looks like the rows with aliases have all of the information as those that do not, so I think it would be safe to keep those with aliases and discard those without."
   ]
  },
  {
   "cell_type": "code",
   "execution_count": 92,
   "metadata": {},
   "outputs": [
    {
     "data": {
      "text/html": [
       "<div>\n",
       "<style scoped>\n",
       "    .dataframe tbody tr th:only-of-type {\n",
       "        vertical-align: middle;\n",
       "    }\n",
       "\n",
       "    .dataframe tbody tr th {\n",
       "        vertical-align: top;\n",
       "    }\n",
       "\n",
       "    .dataframe thead th {\n",
       "        text-align: right;\n",
       "    }\n",
       "</style>\n",
       "<table border=\"1\" class=\"dataframe\">\n",
       "  <thead>\n",
       "    <tr style=\"text-align: right;\">\n",
       "      <th></th>\n",
       "      <th>Unnamed: 0</th>\n",
       "      <th>#tax_id</th>\n",
       "      <th>GeneID</th>\n",
       "      <th>Symbol</th>\n",
       "      <th>Synonyms</th>\n",
       "      <th>dbXrefs</th>\n",
       "      <th>description</th>\n",
       "      <th>type_of_gene</th>\n",
       "      <th>Symbol_from_nomenclature_authority</th>\n",
       "      <th>Full_name_from_nomenclature_authority</th>\n",
       "      <th>Other_designations</th>\n",
       "      <th>MIM</th>\n",
       "      <th>HGNC</th>\n",
       "      <th>ENSEMBL</th>\n",
       "      <th>AllianceGenome</th>\n",
       "      <th>MIRbase</th>\n",
       "      <th>IMGTgene_db</th>\n",
       "      <th>dash</th>\n",
       "      <th>unknown</th>\n",
       "    </tr>\n",
       "  </thead>\n",
       "  <tbody>\n",
       "    <tr>\n",
       "      <th>3576</th>\n",
       "      <td>3576</td>\n",
       "      <td>9606</td>\n",
       "      <td>4549</td>\n",
       "      <td>RNR1</td>\n",
       "      <td>MTRNR1</td>\n",
       "      <td>MIM:561000|HGNC:HGNC:7470|AllianceGenome:HGNC:...</td>\n",
       "      <td>s-rRNA</td>\n",
       "      <td>rRNA</td>\n",
       "      <td>MT-RNR1</td>\n",
       "      <td>mitochondrially encoded 12S RNA</td>\n",
       "      <td>-</td>\n",
       "      <td>561000.0</td>\n",
       "      <td>7470.0</td>\n",
       "      <td>NaN</td>\n",
       "      <td>hgnc:7470</td>\n",
       "      <td>NaN</td>\n",
       "      <td>NaN</td>\n",
       "      <td>NaN</td>\n",
       "      <td>NaN</td>\n",
       "    </tr>\n",
       "    <tr>\n",
       "      <th>4794</th>\n",
       "      <td>4794</td>\n",
       "      <td>9606</td>\n",
       "      <td>6052</td>\n",
       "      <td>RNR1</td>\n",
       "      <td>-</td>\n",
       "      <td>MIM:180450|HGNC:HGNC:10082</td>\n",
       "      <td>RNA, ribosomal 45S cluster 1</td>\n",
       "      <td>other</td>\n",
       "      <td>RNR1</td>\n",
       "      <td>RNA, ribosomal 45S cluster 1</td>\n",
       "      <td>45S rDNA cluster 1|RNA, ribosomal 1|RNA, ribos...</td>\n",
       "      <td>180450.0</td>\n",
       "      <td>10082.0</td>\n",
       "      <td>NaN</td>\n",
       "      <td>NaN</td>\n",
       "      <td>NaN</td>\n",
       "      <td>NaN</td>\n",
       "      <td>NaN</td>\n",
       "      <td>NaN</td>\n",
       "    </tr>\n",
       "  </tbody>\n",
       "</table>\n",
       "</div>"
      ],
      "text/plain": [
       "      Unnamed: 0  #tax_id  GeneID Symbol Synonyms  \\\n",
       "3576        3576     9606    4549   RNR1   MTRNR1   \n",
       "4794        4794     9606    6052   RNR1        -   \n",
       "\n",
       "                                                dbXrefs  \\\n",
       "3576  MIM:561000|HGNC:HGNC:7470|AllianceGenome:HGNC:...   \n",
       "4794                         MIM:180450|HGNC:HGNC:10082   \n",
       "\n",
       "                       description type_of_gene  \\\n",
       "3576                        s-rRNA         rRNA   \n",
       "4794  RNA, ribosomal 45S cluster 1        other   \n",
       "\n",
       "     Symbol_from_nomenclature_authority Full_name_from_nomenclature_authority  \\\n",
       "3576                            MT-RNR1       mitochondrially encoded 12S RNA   \n",
       "4794                               RNR1          RNA, ribosomal 45S cluster 1   \n",
       "\n",
       "                                     Other_designations       MIM     HGNC  \\\n",
       "3576                                                  -  561000.0   7470.0   \n",
       "4794  45S rDNA cluster 1|RNA, ribosomal 1|RNA, ribos...  180450.0  10082.0   \n",
       "\n",
       "     ENSEMBL AllianceGenome MIRbase IMGTgene_db dash  unknown  \n",
       "3576     NaN      hgnc:7470     NaN         NaN  NaN      NaN  \n",
       "4794     NaN            NaN     NaN         NaN  NaN      NaN  "
      ]
     },
     "execution_count": 92,
     "metadata": {},
     "output_type": "execute_result"
    }
   ],
   "source": [
    "df[df['Symbol'].str.contains('RNR1')]"
   ]
  },
  {
   "cell_type": "code",
   "execution_count": 93,
   "metadata": {},
   "outputs": [
    {
     "data": {
      "text/plain": [
       "51"
      ]
     },
     "execution_count": 93,
     "metadata": {},
     "output_type": "execute_result"
    }
   ],
   "source": [
    "unique_in_dup = set(dup_symbol_mini_ncbi_df.gene_symbol)\n",
    "len(unique_in_dup)"
   ]
  },
  {
   "cell_type": "markdown",
   "metadata": {},
   "source": [
    "##### Sort the duplicates so that the ones with empty alias_symbols columns would be first and dropped"
   ]
  },
  {
   "cell_type": "code",
   "execution_count": 94,
   "metadata": {},
   "outputs": [
    {
     "data": {
      "text/plain": [
       "75346"
      ]
     },
     "execution_count": 94,
     "metadata": {},
     "output_type": "execute_result"
    }
   ],
   "source": [
    "subset = ['gene_symbol']\n",
    "\n",
    "mini_ncbi_df.sort_values(subset + ['alias_symbol'], inplace=True)\n",
    "mini_ncbi_df.drop_duplicates(subset, keep='last', inplace=True)\n",
    "\n",
    "len(mini_ncbi_df)"
   ]
  },
  {
   "cell_type": "markdown",
   "metadata": {},
   "source": [
    "75346 This number is good. Original df had 75500 rows. Duplicated rows total was 205. Unique values are 51. 205-51 is 154 duplicates I need to get rid of. 75500-154 is 75346. Also RNR1 is one I knew had a duplicate and it doesnt anymore"
   ]
  },
  {
   "cell_type": "code",
   "execution_count": 95,
   "metadata": {},
   "outputs": [
    {
     "data": {
      "text/html": [
       "<div>\n",
       "<style scoped>\n",
       "    .dataframe tbody tr th:only-of-type {\n",
       "        vertical-align: middle;\n",
       "    }\n",
       "\n",
       "    .dataframe tbody tr th {\n",
       "        vertical-align: top;\n",
       "    }\n",
       "\n",
       "    .dataframe thead th {\n",
       "        text-align: right;\n",
       "    }\n",
       "</style>\n",
       "<table border=\"1\" class=\"dataframe\">\n",
       "  <thead>\n",
       "    <tr style=\"text-align: right;\">\n",
       "      <th></th>\n",
       "      <th>gene_symbol</th>\n",
       "      <th>alias_symbol</th>\n",
       "      <th>ENSG ID</th>\n",
       "    </tr>\n",
       "  </thead>\n",
       "  <tbody>\n",
       "    <tr>\n",
       "      <th>3576</th>\n",
       "      <td>RNR1</td>\n",
       "      <td>MTRNR1</td>\n",
       "      <td>NAN</td>\n",
       "    </tr>\n",
       "  </tbody>\n",
       "</table>\n",
       "</div>"
      ],
      "text/plain": [
       "     gene_symbol alias_symbol ENSG ID\n",
       "3576        RNR1       MTRNR1     NAN"
      ]
     },
     "execution_count": 95,
     "metadata": {},
     "output_type": "execute_result"
    }
   ],
   "source": [
    "mini_ncbi_df = mini_ncbi_df.drop(['symbol_duplicates'], axis=1)\n",
    "mini_ncbi_df[mini_ncbi_df['gene_symbol'].str.contains('RNR1')]"
   ]
  },
  {
   "cell_type": "markdown",
   "metadata": {},
   "source": [
    "### Make all of gene_symbol a set"
   ]
  },
  {
   "cell_type": "code",
   "execution_count": 96,
   "metadata": {},
   "outputs": [],
   "source": [
    "all_gene_symbol_set = set(mini_ncbi_df['gene_symbol'])"
   ]
  },
  {
   "cell_type": "markdown",
   "metadata": {},
   "source": [
    "### Make each row in alias_symbol a set:\n",
    "    covert to a list \n",
    "    make a set"
   ]
  },
  {
   "cell_type": "code",
   "execution_count": 97,
   "metadata": {},
   "outputs": [],
   "source": [
    "alias_symbol_sets = mini_ncbi_df.alias_symbol"
   ]
  },
  {
   "cell_type": "code",
   "execution_count": 98,
   "metadata": {},
   "outputs": [
    {
     "data": {
      "text/html": [
       "<div>\n",
       "<style scoped>\n",
       "    .dataframe tbody tr th:only-of-type {\n",
       "        vertical-align: middle;\n",
       "    }\n",
       "\n",
       "    .dataframe tbody tr th {\n",
       "        vertical-align: top;\n",
       "    }\n",
       "\n",
       "    .dataframe thead th {\n",
       "        text-align: right;\n",
       "    }\n",
       "</style>\n",
       "<table border=\"1\" class=\"dataframe\">\n",
       "  <thead>\n",
       "    <tr style=\"text-align: right;\">\n",
       "      <th></th>\n",
       "      <th>gene_symbol</th>\n",
       "      <th>alias_symbol</th>\n",
       "      <th>ENSG ID</th>\n",
       "    </tr>\n",
       "  </thead>\n",
       "  <tbody>\n",
       "    <tr>\n",
       "      <th>75493</th>\n",
       "      <td>12S rRNA</td>\n",
       "      <td>{-}</td>\n",
       "      <td>NAN</td>\n",
       "    </tr>\n",
       "  </tbody>\n",
       "</table>\n",
       "</div>"
      ],
      "text/plain": [
       "      gene_symbol alias_symbol ENSG ID\n",
       "75493    12S rRNA          {-}     NAN"
      ]
     },
     "execution_count": 98,
     "metadata": {},
     "output_type": "execute_result"
    }
   ],
   "source": [
    "mini_ncbi_df['alias_symbol'] = mini_ncbi_df['alias_symbol'].astype(str)\n",
    "mini_ncbi_df['alias_symbol'] = [x.split('|') for x in mini_ncbi_df.alias_symbol]\n",
    "mini_ncbi_df['alias_symbol']=np.where(mini_ncbi_df.alias_symbol=='','',mini_ncbi_df.alias_symbol.map(set))\n",
    "mini_ncbi_df.head(1)"
   ]
  },
  {
   "cell_type": "markdown",
   "metadata": {},
   "source": [
    "### Add test for false positives in the intersection points\n",
    "#### (places where x in alias_symbol matches x in mini_hgnc_df.gene_symbol in the same row)"
   ]
  },
  {
   "cell_type": "code",
   "execution_count": 99,
   "metadata": {},
   "outputs": [
    {
     "data": {
      "text/html": [
       "<div>\n",
       "<style scoped>\n",
       "    .dataframe tbody tr th:only-of-type {\n",
       "        vertical-align: middle;\n",
       "    }\n",
       "\n",
       "    .dataframe tbody tr th {\n",
       "        vertical-align: top;\n",
       "    }\n",
       "\n",
       "    .dataframe thead th {\n",
       "        text-align: right;\n",
       "    }\n",
       "</style>\n",
       "<table border=\"1\" class=\"dataframe\">\n",
       "  <thead>\n",
       "    <tr style=\"text-align: right;\">\n",
       "      <th></th>\n",
       "      <th>gene_symbol</th>\n",
       "      <th>alias_symbol</th>\n",
       "      <th>ENSG ID</th>\n",
       "    </tr>\n",
       "  </thead>\n",
       "  <tbody>\n",
       "  </tbody>\n",
       "</table>\n",
       "</div>"
      ],
      "text/plain": [
       "Empty DataFrame\n",
       "Columns: [gene_symbol, alias_symbol, ENSG ID]\n",
       "Index: []"
      ]
     },
     "execution_count": 99,
     "metadata": {},
     "output_type": "execute_result"
    }
   ],
   "source": [
    "mini_ncbi_df['gene_symbol'] = [x.split(';') for x in mini_ncbi_df.gene_symbol]\n",
    "mini_ncbi_df['gene_symbol'] =np.where(mini_ncbi_df.gene_symbol =='','',mini_ncbi_df.gene_symbol.map(set))\n",
    "false_pos_mini_ncbi_df = mini_ncbi_df[mini_ncbi_df.alias_symbol.apply(lambda x: x & all_gene_symbol_set) == mini_ncbi_df.gene_symbol]\n",
    "false_pos_mini_ncbi_df.head()"
   ]
  },
  {
   "cell_type": "markdown",
   "metadata": {},
   "source": [
    "### Find intersection points using alias symbol sets and gene_symbol"
   ]
  },
  {
   "cell_type": "code",
   "execution_count": 100,
   "metadata": {},
   "outputs": [
    {
     "data": {
      "text/html": [
       "<div>\n",
       "<style scoped>\n",
       "    .dataframe tbody tr th:only-of-type {\n",
       "        vertical-align: middle;\n",
       "    }\n",
       "\n",
       "    .dataframe tbody tr th {\n",
       "        vertical-align: top;\n",
       "    }\n",
       "\n",
       "    .dataframe thead th {\n",
       "        text-align: right;\n",
       "    }\n",
       "</style>\n",
       "<table border=\"1\" class=\"dataframe\">\n",
       "  <thead>\n",
       "    <tr style=\"text-align: right;\">\n",
       "      <th></th>\n",
       "      <th>gene_symbol</th>\n",
       "      <th>alias_symbol</th>\n",
       "      <th>ENSG ID</th>\n",
       "      <th>intersect_point</th>\n",
       "    </tr>\n",
       "  </thead>\n",
       "  <tbody>\n",
       "    <tr>\n",
       "      <th>11270</th>\n",
       "      <td>{A1CF}</td>\n",
       "      <td>{ACF65, ACF64, ASP, APOBEC1CF, ACF}</td>\n",
       "      <td>ENSG00000148584</td>\n",
       "      <td>{ACF}</td>\n",
       "    </tr>\n",
       "    <tr>\n",
       "      <th>18449</th>\n",
       "      <td>{A2ML1}</td>\n",
       "      <td>{CPAMD9, p170, OMS}</td>\n",
       "      <td>ENSG00000166535</td>\n",
       "      <td>{OMS}</td>\n",
       "    </tr>\n",
       "    <tr>\n",
       "      <th>9</th>\n",
       "      <td>{AANAT}</td>\n",
       "      <td>{DSPS, SNAT}</td>\n",
       "      <td>ENSG00000129673</td>\n",
       "      <td>{DSPS}</td>\n",
       "    </tr>\n",
       "    <tr>\n",
       "      <th>8104</th>\n",
       "      <td>{ABCA7}</td>\n",
       "      <td>{ABCX, ABCA-SSN, AD9}</td>\n",
       "      <td>ENSG00000064687</td>\n",
       "      <td>{AD9}</td>\n",
       "    </tr>\n",
       "    <tr>\n",
       "      <th>181</th>\n",
       "      <td>{ABCD1}</td>\n",
       "      <td>{ALDP, ALD, AMN, ABC42}</td>\n",
       "      <td>ENSG00000101986</td>\n",
       "      <td>{AMN}</td>\n",
       "    </tr>\n",
       "  </tbody>\n",
       "</table>\n",
       "</div>"
      ],
      "text/plain": [
       "      gene_symbol                         alias_symbol          ENSG ID  \\\n",
       "11270      {A1CF}  {ACF65, ACF64, ASP, APOBEC1CF, ACF}  ENSG00000148584   \n",
       "18449     {A2ML1}                  {CPAMD9, p170, OMS}  ENSG00000166535   \n",
       "9         {AANAT}                         {DSPS, SNAT}  ENSG00000129673   \n",
       "8104      {ABCA7}                {ABCX, ABCA-SSN, AD9}  ENSG00000064687   \n",
       "181       {ABCD1}              {ALDP, ALD, AMN, ABC42}  ENSG00000101986   \n",
       "\n",
       "      intersect_point  \n",
       "11270           {ACF}  \n",
       "18449           {OMS}  \n",
       "9              {DSPS}  \n",
       "8104            {AD9}  \n",
       "181             {AMN}  "
      ]
     },
     "execution_count": 100,
     "metadata": {},
     "output_type": "execute_result"
    }
   ],
   "source": [
    "mini_ncbi_df['intersect_point'] = mini_ncbi_df.alias_symbol.apply(lambda x: x & all_gene_symbol_set)\n",
    "true_mini_ncbi_df = mini_ncbi_df[mini_ncbi_df.intersect_point != set()]\n",
    "true_mini_ncbi_df.head()"
   ]
  },
  {
   "cell_type": "markdown",
   "metadata": {},
   "source": [
    "### Save true intersect points"
   ]
  },
  {
   "cell_type": "code",
   "execution_count": 104,
   "metadata": {},
   "outputs": [
    {
     "data": {
      "text/plain": [
       "1712"
      ]
     },
     "execution_count": 104,
     "metadata": {},
     "output_type": "execute_result"
    }
   ],
   "source": [
    "true_mini_ncbi_df.to_csv('../analysis/true_ncbi_alias_gene_intersections.csv', index=False)\n",
    "len(true_mini_ncbi_df)"
   ]
  }
 ],
 "metadata": {
  "kernelspec": {
   "display_name": "Python 3.10.9 ('gene-normalization-kln2mzEG')",
   "language": "python",
   "name": "python3"
  },
  "language_info": {
   "codemirror_mode": {
    "name": "ipython",
    "version": 3
   },
   "file_extension": ".py",
   "mimetype": "text/x-python",
   "name": "python",
   "nbconvert_exporter": "python",
   "pygments_lexer": "ipython3",
   "version": "3.10.9"
  },
  "orig_nbformat": 4,
  "vscode": {
   "interpreter": {
    "hash": "63db6d8944633f0f1ac66f1e84c479e7ccc3c7c835ee283fbd6bddfaad96182b"
   }
  }
 },
 "nbformat": 4,
 "nbformat_minor": 2
}
